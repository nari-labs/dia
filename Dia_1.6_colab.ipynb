{
  "nbformat": 4,
  "nbformat_minor": 0,
  "metadata": {
    "colab": {
      "provenance": [],
      "gpuType": "T4"
    },
    "kernelspec": {
      "name": "python3",
      "display_name": "Python 3"
    },
    "language_info": {
      "name": "python"
    },
    "accelerator": "GPU"
  },
  "cells": [
    {
      "cell_type": "code",
      "execution_count": null,
      "metadata": {
        "id": "CdSjPPKxZT0I"
      },
      "outputs": [],
      "source": [
        "%cd /content\n",
        "!git clone https://github.com/nari-labs/dia.git\n",
        "%cd /content/dia\n",
        "! pip install -e .\n",
        "\n"
      ]
    },
    {
      "cell_type": "code",
      "source": [
        "! cd dia && python app.py --share"
      ],
      "metadata": {
        "id": "CSUdFmMmZnCA"
      },
      "execution_count": null,
      "outputs": []
    }
  ]
}